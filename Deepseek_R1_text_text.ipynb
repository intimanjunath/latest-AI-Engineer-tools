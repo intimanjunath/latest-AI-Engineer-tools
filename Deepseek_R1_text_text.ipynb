{
  "nbformat": 4,
  "nbformat_minor": 0,
  "metadata": {
    "colab": {
      "provenance": [],
      "authorship_tag": "ABX9TyO0W/G9Vfvr8kKNoQROr/Wu",
      "include_colab_link": true
    },
    "kernelspec": {
      "name": "python3",
      "display_name": "Python 3"
    },
    "language_info": {
      "name": "python"
    }
  },
  "cells": [
    {
      "cell_type": "markdown",
      "metadata": {
        "id": "view-in-github",
        "colab_type": "text"
      },
      "source": [
        "<a href=\"https://colab.research.google.com/github/intimanjunath/latest-AI-Engineer-tools/blob/main/Deepseek_R1_text_text.ipynb\" target=\"_parent\"><img src=\"https://colab.research.google.com/assets/colab-badge.svg\" alt=\"Open In Colab\"/></a>"
      ]
    },
    {
      "cell_type": "code",
      "source": [
        "!pip install openai==0.28"
      ],
      "metadata": {
        "colab": {
          "base_uri": "https://localhost:8080/"
        },
        "id": "iUu0NVQXAO2t",
        "outputId": "7bc380e9-5ec3-478c-92f0-517c59ea3c15"
      },
      "execution_count": 1,
      "outputs": [
        {
          "output_type": "stream",
          "name": "stdout",
          "text": [
            "Requirement already satisfied: openai==0.28 in /usr/local/lib/python3.11/dist-packages (0.28.0)\n",
            "Requirement already satisfied: requests>=2.20 in /usr/local/lib/python3.11/dist-packages (from openai==0.28) (2.32.3)\n",
            "Requirement already satisfied: tqdm in /usr/local/lib/python3.11/dist-packages (from openai==0.28) (4.67.1)\n",
            "Requirement already satisfied: aiohttp in /usr/local/lib/python3.11/dist-packages (from openai==0.28) (3.11.11)\n",
            "Requirement already satisfied: charset-normalizer<4,>=2 in /usr/local/lib/python3.11/dist-packages (from requests>=2.20->openai==0.28) (3.4.1)\n",
            "Requirement already satisfied: idna<4,>=2.5 in /usr/local/lib/python3.11/dist-packages (from requests>=2.20->openai==0.28) (3.10)\n",
            "Requirement already satisfied: urllib3<3,>=1.21.1 in /usr/local/lib/python3.11/dist-packages (from requests>=2.20->openai==0.28) (2.3.0)\n",
            "Requirement already satisfied: certifi>=2017.4.17 in /usr/local/lib/python3.11/dist-packages (from requests>=2.20->openai==0.28) (2025.1.31)\n",
            "Requirement already satisfied: aiohappyeyeballs>=2.3.0 in /usr/local/lib/python3.11/dist-packages (from aiohttp->openai==0.28) (2.4.4)\n",
            "Requirement already satisfied: aiosignal>=1.1.2 in /usr/local/lib/python3.11/dist-packages (from aiohttp->openai==0.28) (1.3.2)\n",
            "Requirement already satisfied: attrs>=17.3.0 in /usr/local/lib/python3.11/dist-packages (from aiohttp->openai==0.28) (25.1.0)\n",
            "Requirement already satisfied: frozenlist>=1.1.1 in /usr/local/lib/python3.11/dist-packages (from aiohttp->openai==0.28) (1.5.0)\n",
            "Requirement already satisfied: multidict<7.0,>=4.5 in /usr/local/lib/python3.11/dist-packages (from aiohttp->openai==0.28) (6.1.0)\n",
            "Requirement already satisfied: propcache>=0.2.0 in /usr/local/lib/python3.11/dist-packages (from aiohttp->openai==0.28) (0.2.1)\n",
            "Requirement already satisfied: yarl<2.0,>=1.17.0 in /usr/local/lib/python3.11/dist-packages (from aiohttp->openai==0.28) (1.18.3)\n"
          ]
        }
      ]
    },
    {
      "cell_type": "code",
      "source": [
        "import openai\n",
        "import time\n",
        "from IPython.display import clear_output"
      ],
      "metadata": {
        "id": "reBhaAdD_bYM"
      },
      "execution_count": 2,
      "outputs": []
    },
    {
      "cell_type": "code",
      "source": [
        "# Set your API key for DeepSeek R1 (or similar service)\n",
        "GROQ_API_KEY = \"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\"\n",
        "openai.api_key = GROQ_API_KEY\n",
        "\n",
        "# If your provider requires a custom base URL, set it here:\n",
        "openai.api_base = \"https://api.groq.com/openai/v1\"\n"
      ],
      "metadata": {
        "id": "EYVPEKRs_d5q"
      },
      "execution_count": 3,
      "outputs": []
    },
    {
      "cell_type": "code",
      "source": [
        "#Functions for Chatting"
      ],
      "metadata": {
        "id": "d9yx9Ped_lJi"
      },
      "execution_count": 4,
      "outputs": []
    },
    {
      "cell_type": "code",
      "source": [
        "def deepseek_r1_chat(messages_history):\n",
        "    \"\"\"\n",
        "    Calls the DeepSeek R1 model to continue a conversation.\n",
        "\n",
        "    Parameters:\n",
        "      messages_history (list): List of message dictionaries (each with 'role' and 'content').\n",
        "\n",
        "    Returns:\n",
        "      str: The assistant's reply or an error message.\n",
        "    \"\"\"\n",
        "    try:\n",
        "        response = openai.ChatCompletion.create(\n",
        "            model=\"deepseek-r1-distill-llama-70b\",\n",
        "            messages=messages_history,\n",
        "            temperature=0.7,\n",
        "            max_tokens=4096,\n",
        "            top_p=0.95\n",
        "        )\n",
        "        # Return the content of the assistant's message\n",
        "        return response.choices[0].message.content\n",
        "    except Exception as err:\n",
        "        return f\"Error during chat: {err}\"\n",
        "\n",
        "def start_interactive_chat():\n",
        "    \"\"\"\n",
        "    Initiates an interactive chat loop with the DeepSeek R1 model.\n",
        "    Type 'quit' to exit and 'clear' to reset the conversation.\n",
        "    \"\"\"\n",
        "    conversation_history = []\n",
        "    print(\"Start chatting with DeepSeek R1! (Type 'quit' to exit, 'clear' to reset the conversation.)\")\n",
        "    while True:\n",
        "        user_message = input(\"\\nYou: \")\n",
        "        if user_message.lower().strip() == \"quit\":\n",
        "            print(\"Exiting chat. Goodbye!\")\n",
        "            break\n",
        "        if user_message.lower().strip() == \"clear\":\n",
        "            conversation_history = []\n",
        "            clear_output(wait=True)\n",
        "            print(\"Chat history cleared. Start a new conversation!\")\n",
        "            continue\n",
        "\n",
        "        # Add the user's message to the conversation history\n",
        "        conversation_history.append({\"role\": \"user\", \"content\": user_message})\n",
        "        # Get the response from DeepSeek R1\n",
        "        reply = deepseek_r1_chat(conversation_history)\n",
        "        conversation_history.append({\"role\": \"assistant\", \"content\": reply})\n",
        "        print(\"\\nDeepSeek R1:\", reply)\n",
        "        # Short pause to help avoid rate limits\n",
        "        time.sleep(0.5)"
      ],
      "metadata": {
        "id": "KeYM0roO_nIY"
      },
      "execution_count": 5,
      "outputs": []
    },
    {
      "cell_type": "code",
      "source": [
        "# Uncomment the line below to start the interactive chat.\n",
        "start_interactive_chat()"
      ],
      "metadata": {
        "colab": {
          "base_uri": "https://localhost:8080/"
        },
        "id": "hr0lK97l_oOJ",
        "outputId": "1804dc75-ffbd-43b1-fc8a-6f49dc13b1b8"
      },
      "execution_count": 6,
      "outputs": [
        {
          "output_type": "stream",
          "name": "stdout",
          "text": [
            "Start chatting with DeepSeek R1! (Type 'quit' to exit, 'clear' to reset the conversation.)\n",
            "\n",
            "You: say something\n",
            "\n",
            "DeepSeek R1: <think>\n",
            "\n",
            "</think>\n",
            "\n",
            "Hello! How can I assist you today? 😊\n",
            "\n",
            "You: im bored today, i wana see what all options u have to kill my boredom \n",
            "\n",
            "DeepSeek R1: <think>\n",
            "Alright, the user just said they're bored and want to know what options I have to help them. I should come up with a variety of ideas to engage them. Let me think about different categories—like games, creative stuff, learning, and relaxation. Maybe start with some fun chat games since they're already talking to me. Word chain or hangman could be good. Trivia is always a hit too. For creative types, storytelling or poetry might spark their interest. If they're into learning, suggesting cool facts or explaining something in simple terms could work. Relaxation is important too, so maybe meditation or deep breathing exercises. I should also include practical ideas like recommending movies or music, or even productivity tips if they want to get something done. Let me list these out in a friendly, enthusiastic way to make it inviting. Hopefully, this covers all bases and gives them plenty of options to choose from!\n",
            "</think>\n",
            "\n",
            "Well, well! Let’s see what we can do to help you shake off that boredom! Here are a few ideas:\n",
            "\n",
            "### 1. **Play a Game**\n",
            "   - **Word Chain**: I’ll start with a word, and you have to think of a word that starts with the last letter of the previous word.  \n",
            "   - **Hangman**: I’ll think of a word, and you guess letters to figure it out.  \n",
            "   - **Trivia**: I can quiz you on anything—history, science, movies, music, or something else you’re into.  \n",
            "   - **Would You Rather**: I’ll give you two fun options, and you choose which one you’d prefer.  \n",
            "\n",
            "### 2. **Get Creative**\n",
            "   - **Storytelling**: I’ll start a story, and you can continue it in your own way.  \n",
            "   - **Poetry Time**: I’ll give you a prompt, and you write a short poem.  \n",
            "   - **Jokes or Riddles**: Share some or let me come up with ones for you!  \n",
            "\n",
            "### 3. **Learn Something New**\n",
            "   - **Fun Facts**: I can tell you some random, cool facts about the world.  \n",
            "   - **How Things Work**: I can explain something interesting in simple terms—like how black holes work or how dreams function.  \n",
            "   - **Language Lessons**: If you’re curious about another language, I can teach you a few basic phrases.  \n",
            "\n",
            "### 4. **Relax and Unwind**\n",
            "   - **Meditation**: I can guide you through a quick meditation session.  \n",
            "   - **Deep Breathing Exercises**: Let’s do some together to calm your mind.  \n",
            "   - **Gratitude Practice**: Let’s list things you’re grateful for.  \n",
            "\n",
            "### 5. **Plan Something Fun**\n",
            "   - **Movie/TV Show Recommendations**: Let me know what genre you’re in the mood for, and I’ll suggest something.  \n",
            "   - **Music Discovery**: I can recommend songs or playlists based on your mood.  \n",
            "   - **DIY Projects**: If you’re feeling crafty, I can suggest a fun DIY idea you can try at home.  \n",
            "\n",
            "### 6. **Get Productive (if you’re in the mood for it)**  \n",
            "   - **Goal Setting**: Let’s set and break down a small goal you’ve been putting off.  \n",
            "   - **To-Do List**: I can help you organize your tasks if you want to get something done.  \n",
            "   - **Brainstorm Ideas**: If you’ve been stuck on something, we can brainstorm solutions together.  \n",
            "\n",
            "So, what sounds interesting to you? Or do you have something specific in mind that you’d like to try? Let me know! 😊\n",
            "\n",
            "You: Nah let's try something else\n",
            "\n",
            "DeepSeek R1: <think>\n",
            "Alright, so the user is feeling bored and wants to explore something different. They've already gone through a list of options, but none of them seem to strike their fancy. They're looking for something new and engaging. Let me think about what else I can offer.\n",
            "\n",
            "Maybe they're into something more interactive or perhaps something that challenges their thinking. I should consider activities that are not only fun but also stimulating. Let's brainstorm some ideas.\n",
            "\n",
            "How about interactive storytelling? That could be a fun way to engage their creativity. Or maybe a \"choose your own adventure\" game where they make decisions that affect the outcome of the story. That could be exciting and keep them interested.\n",
            "\n",
            "Another idea is to introduce them to some fun puzzles or riddles. Riddles can be a great way to exercise the brain and have some laughs at the same time. Plus, it's something that can be done at their own pace.\n",
            "\n",
            "What about a \"Would You Rather\" game? Presenting them with difficult choices can spark interesting conversations and help them think critically about their preferences. It's also a good way to learn more about themselves.\n",
            "\n",
            "If they're into learning something new, maybe I can suggest some quick and interesting facts or trivia. People often find fun facts engaging and it's a good way to pass the time while learning something new.\n",
            "\n",
            "DIY projects could also be a great way to alleviate boredom. Crafting or making something with their hands can be both therapeutic and rewarding. It gives them a sense of accomplishment and keeps them occupied.\n",
            "\n",
            "If they're feeling stressed or overwhelmed, maybe some relaxation techniques would help. Guided meditations or deep breathing exercises can help them unwind and clear their mind.\n",
            "\n",
            "I should also consider their interests. Are they into movies, music, books, or something else? Tailoring the activities to their hobbies might make the suggestions more appealing.\n",
            "\n",
            "Perhaps I can ask them about their preferences to narrow down the options. This way, I can offer more personalized ideas that cater to their tastes.\n",
            "\n",
            "Overall, the key is to provide a variety of options that are engaging, interactive, and tailored to their interests. By doing so, I can help them find an activity that truly captures their attention and helps them overcome boredom.\n",
            "\n",
            "Now, let's organize these thoughts into a coherent response with multiple options, ensuring each one is clearly explained and easy to understand. This way, the user can easily choose what suits them best without feeling overwhelmed.\n",
            "</think>\n",
            "\n",
            "Sure! Let's try something else. How about a fun **\"Would You Rather\"** game? I'll give you two options, and you choose which one you'd prefer. It’s a great way to spark some interesting thoughts and conversations. Here's your first question:\n",
            "\n",
            "**Would you rather...**\n",
            "1. Have a private jet for a year, but you can only travel within your country?  \n",
            "2. Be able to travel anywhere in the world for free, but only by train or bus?  \n",
            "\n",
            "Let me know your choice! 😊\n",
            "\n",
            "You: \"In the interstices of conscious thought and unconscious memory lies an ever-shifting mosaic of phenomena that defies the linear constraints of time. \"     \"Drawing upon the counterintuitive principles of quantum mechanics—where the observer effect transforms potentialities into actualities—each fleeting moment \"     \"emerges as a dynamic interplay between chaos and order, reality and illusion. \"     \"The paradox of being, wherein existence is at once transient and eternal, finds expression in the fractal geometries of our inner landscapes, challenging conventional \"     \"notions of determinism. \"     \"Language itself becomes a double-edged sword: a tool capable of articulating the sublime complexity of our inner worlds, yet also a barrier that reduces nuanced \"     \"experiences to simplistic semantics. \"     \"Thus, as one navigates this labyrinth of thought, each sentence unfolds as an allegory—inviting a metaphysical inquiry into the nature of consciousness, time, \"     \"and the ever-elusive tapestry of meaning that underpins human existence.\"\n",
            "\n",
            "DeepSeek R1: <think>\n",
            "Okay, so I'm looking at this pretty dense and philosophical passage that the user provided. It's full of big words and complex ideas. The user wants me to respond to it, but it's a bit overwhelming at first glance. Let me try to break it down.\n",
            "\n",
            "First, I notice that the passage talks about the interstices of conscious thought and unconscious memory. That part about the \"ever-shifting mosaic of phenomena\" makes me think of how our thoughts and memories are always changing and interacting in ways we might not even be aware of. It's like the mind is constantly processing information, blending the conscious and subconscious.\n",
            "\n",
            "Then there's a mention of quantum mechanics and the observer effect. I'm not super familiar with quantum mechanics, but I know the observer effect has to do with how the act of observing something can change its state. Applying that to human experience, it's interesting to think about how our perception shapes our reality. So, in a way, by paying attention to something, we're influencing how it appears to us.\n",
            "\n",
            "The passage also touches on the idea of time being non-linear. It says that time isn't just a straight line but something more fluid. This makes me think of theories like eternalism, where all points in time are equally real, or maybe even concepts from relativity where time can be relative. It's mind-blowing to consider that our traditional understanding of past, present, and future might not be the only way to experience time.\n",
            "\n",
            "There's a part about the paradox of being, where existence is both transient and eternal. That's a deep contradiction. On one hand, everything is temporary and constantly changing, but on the other hand, there's something timeless about existence. It's like the balance between change and permanence, which is a common theme in philosophy and even in some religious teachings.\n",
            "\n",
            "Fractal geometries of inner landscapes are mentioned, which makes me think of how patterns repeat at different scales. In the context of the mind, maybe this refers to how our thoughts and emotions have self-similar patterns at different levels of complexity. It's a beautiful way to describe the intricate workings of the human psyche.\n",
            "\n",
            "The challenge to conventional notions of determinism is interesting. Determinism suggests that everything is caused by prior events, and there's no free will. But if there's chaos and unpredictability, as the passage suggests, that might leave room for free will or at least for uncertainties that deterministic views can't account for.\n",
            "\n",
            "Language being a double-edged sword is a concept I'm familiar with. On one hand, language allows us to communicate complex ideas and emotions. On the other hand, it can oversimplify or misrepresent those same complexities. It's like trying to describe a color to someone who's never seen it—words can only go so far.\n",
            "\n",
            "The labyrinth of thought and each sentence unfolding as an allegory makes me think of how complex and layered language can be. An allegory is a metaphor that represents abstract ideas through more concrete symbols, so each sentence invites deeper reflection and interpretation.\n",
            "\n",
            "Finally, the invitation to a metaphysical inquiry into consciousness, time, and the tapestry of meaning is pretty profound. It's like the passage is encouraging the reader to explore these big questions about existence and our place in the universe.\n",
            "\n",
            "Overall, this passage is rich with ideas about perception, reality, time, and the limitations of language. It's a lot to unpack, but it's also inspiring to think about how deeply intertwined these concepts are with human existence. I'm curious to delve deeper into these topics and see how they connect with each other and with my own experiences.\n",
            "\n",
            "Maybe I can start by looking up more about the observer effect in quantum mechanics and how it's been applied metaphorically to consciousness. Also, exploring philosophical theories about time and determinism could provide more context. It would also be interesting to reflect on how language shapes my understanding of the world and where it falls short.\n",
            "\n",
            "This passage has definitely given me a lot to think about. It's challenging, but in a good way—it pushes me to question my assumptions and seek out more knowledge. I'm excited to see where this line of thinking takes me and how I can apply these concepts to better understand myself and the world around me.\n",
            "</think>\n",
            "\n",
            "The passage you provided is a profound and intricate exploration of consciousness, time, and the human experience. It delves into the interplay between conscious thought and unconscious memory, suggesting that our experiences are part of an ever-changing mosaic that transcends linear time. By invoking quantum mechanics, particularly the observer effect, the passage implies that our perceptions shape reality, highlighting the dynamic and subjective nature of existence.\n",
            "\n",
            "The paradox of being, where existence is both transient and eternal, reflects the tension between impermanence and timelessness. This duality is further illustrated through the metaphor of fractal geometries, which suggest that patterns in our inner worlds repeat at different scales, mirroring the complexity of human consciousness.\n",
            "\n",
            "The passage also challenges determinism by introducing chaos and unpredictability, leaving room for free will and uncertainty. Language is presented as both a tool for articulating complex ideas and a limitation that simplifies nuanced experiences. Each sentence invites deeper reflection, serving as an allegory for the labyrinthine nature of thought.\n",
            "\n",
            "Ultimately, the passage encourages a metaphysical inquiry into consciousness, time, and the quest for meaning. It inspires us to explore these fundamental questions, urging us to consider how our perceptions and understanding of language influence our grasp of reality. This text is a rich tapestry of ideas that invites further exploration and introspection.\n",
            "\n",
            "You: quit\n",
            "Exiting chat. Goodbye!\n"
          ]
        }
      ]
    }
  ]
}